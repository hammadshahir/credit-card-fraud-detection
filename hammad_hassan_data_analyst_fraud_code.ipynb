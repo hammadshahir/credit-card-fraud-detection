{
 "cells": [
  {
   "cell_type": "markdown",
   "metadata": {},
   "source": [
    "# Solution to Question # 3."
   ]
  },
  {
   "cell_type": "markdown",
   "metadata": {},
   "source": [
    "<strong>Objective:</strong>\n",
    "Our goal is to construct a model which can predict fraudulent transactions automatically."
   ]
  },
  {
   "cell_type": "markdown",
   "metadata": {},
   "source": [
    "<strong>Tools Used:</strong> Pandas, Numpy, Matplotlib, Tensorflow, Keras, Scikit-learn"
   ]
  },
  {
   "cell_type": "markdown",
   "metadata": {},
   "source": [
    "# 1 - Loading important libraries"
   ]
  },
  {
   "cell_type": "code",
   "execution_count": 89,
   "metadata": {},
   "outputs": [],
   "source": [
    "import pandas as pd\n",
    "import numpy as np\n",
    "\n",
    "import matplotlib.pyplot as plt\n",
    "import seaborn as sns\n",
    "\n",
    "from scipy import stats\n",
    "import tensorflow as tf\n",
    "from pylab import rcParams\n",
    "from keras.models import Model, load_model\n",
    "from keras.layers import Input\n",
    "from keras.callbacks import ModelCheckpoint, TensorBoard\n",
    "from keras import regularizers\n",
    "\n",
    "\n",
    "RANDOM_SEED = 42"
   ]
  },
  {
   "cell_type": "code",
   "execution_count": 90,
   "metadata": {},
   "outputs": [],
   "source": [
    "import warnings\n",
    "warnings.filterwarnings('ignore')"
   ]
  },
  {
   "cell_type": "code",
   "execution_count": 49,
   "metadata": {},
   "outputs": [],
   "source": [
    "%matplotlib inline"
   ]
  },
  {
   "cell_type": "markdown",
   "metadata": {},
   "source": [
    "### Reading Data, Data Analysis and Exploration"
   ]
  },
  {
   "cell_type": "code",
   "execution_count": 50,
   "metadata": {},
   "outputs": [],
   "source": [
    "data = pd.read_csv('Resources/fraud_one.csv')"
   ]
  },
  {
   "cell_type": "code",
   "execution_count": 51,
   "metadata": {},
   "outputs": [
    {
     "data": {
      "text/html": [
       "<div>\n",
       "<style scoped>\n",
       "    .dataframe tbody tr th:only-of-type {\n",
       "        vertical-align: middle;\n",
       "    }\n",
       "\n",
       "    .dataframe tbody tr th {\n",
       "        vertical-align: top;\n",
       "    }\n",
       "\n",
       "    .dataframe thead th {\n",
       "        text-align: right;\n",
       "    }\n",
       "</style>\n",
       "<table border=\"1\" class=\"dataframe\">\n",
       "  <thead>\n",
       "    <tr style=\"text-align: right;\">\n",
       "      <th></th>\n",
       "      <th>Unnamed: 0</th>\n",
       "      <th>Time</th>\n",
       "      <th>V1</th>\n",
       "      <th>V2</th>\n",
       "      <th>V3</th>\n",
       "      <th>V4</th>\n",
       "      <th>V5</th>\n",
       "      <th>V6</th>\n",
       "      <th>V7</th>\n",
       "      <th>V8</th>\n",
       "      <th>...</th>\n",
       "      <th>V21</th>\n",
       "      <th>V22</th>\n",
       "      <th>V23</th>\n",
       "      <th>V24</th>\n",
       "      <th>V25</th>\n",
       "      <th>V26</th>\n",
       "      <th>V27</th>\n",
       "      <th>V28</th>\n",
       "      <th>Amount</th>\n",
       "      <th>Class</th>\n",
       "    </tr>\n",
       "  </thead>\n",
       "  <tbody>\n",
       "    <tr>\n",
       "      <td>0</td>\n",
       "      <td>0</td>\n",
       "      <td>64</td>\n",
       "      <td>1.212511</td>\n",
       "      <td>-0.099054</td>\n",
       "      <td>-1.192094</td>\n",
       "      <td>0.286324</td>\n",
       "      <td>2.160516</td>\n",
       "      <td>3.616314</td>\n",
       "      <td>-0.404207</td>\n",
       "      <td>0.842331</td>\n",
       "      <td>...</td>\n",
       "      <td>-0.167496</td>\n",
       "      <td>-0.494695</td>\n",
       "      <td>-0.149785</td>\n",
       "      <td>1.011227</td>\n",
       "      <td>0.883548</td>\n",
       "      <td>-0.329434</td>\n",
       "      <td>0.020370</td>\n",
       "      <td>0.017037</td>\n",
       "      <td>34.70</td>\n",
       "      <td>0</td>\n",
       "    </tr>\n",
       "    <tr>\n",
       "      <td>1</td>\n",
       "      <td>1</td>\n",
       "      <td>64</td>\n",
       "      <td>-0.658305</td>\n",
       "      <td>0.406791</td>\n",
       "      <td>2.037461</td>\n",
       "      <td>-0.291298</td>\n",
       "      <td>0.147910</td>\n",
       "      <td>-0.350857</td>\n",
       "      <td>0.945373</td>\n",
       "      <td>-0.172560</td>\n",
       "      <td>...</td>\n",
       "      <td>-0.156096</td>\n",
       "      <td>-0.238805</td>\n",
       "      <td>0.089877</td>\n",
       "      <td>0.421195</td>\n",
       "      <td>-0.352487</td>\n",
       "      <td>0.074783</td>\n",
       "      <td>-0.094192</td>\n",
       "      <td>-0.092493</td>\n",
       "      <td>54.99</td>\n",
       "      <td>0</td>\n",
       "    </tr>\n",
       "    <tr>\n",
       "      <td>2</td>\n",
       "      <td>2</td>\n",
       "      <td>124</td>\n",
       "      <td>1.105253</td>\n",
       "      <td>0.541842</td>\n",
       "      <td>0.839421</td>\n",
       "      <td>2.570933</td>\n",
       "      <td>-0.279517</td>\n",
       "      <td>-0.423062</td>\n",
       "      <td>0.088019</td>\n",
       "      <td>0.011622</td>\n",
       "      <td>...</td>\n",
       "      <td>-0.137434</td>\n",
       "      <td>-0.460991</td>\n",
       "      <td>0.189397</td>\n",
       "      <td>0.556329</td>\n",
       "      <td>0.185786</td>\n",
       "      <td>-0.189030</td>\n",
       "      <td>0.000208</td>\n",
       "      <td>0.026167</td>\n",
       "      <td>6.24</td>\n",
       "      <td>0</td>\n",
       "    </tr>\n",
       "    <tr>\n",
       "      <td>3</td>\n",
       "      <td>3</td>\n",
       "      <td>128</td>\n",
       "      <td>1.239495</td>\n",
       "      <td>-0.182609</td>\n",
       "      <td>0.155058</td>\n",
       "      <td>-0.928892</td>\n",
       "      <td>-0.746227</td>\n",
       "      <td>-1.235608</td>\n",
       "      <td>-0.061695</td>\n",
       "      <td>-0.125223</td>\n",
       "      <td>...</td>\n",
       "      <td>0.146077</td>\n",
       "      <td>0.481119</td>\n",
       "      <td>-0.140019</td>\n",
       "      <td>0.538261</td>\n",
       "      <td>0.710720</td>\n",
       "      <td>-0.621382</td>\n",
       "      <td>0.036867</td>\n",
       "      <td>0.010963</td>\n",
       "      <td>8.80</td>\n",
       "      <td>0</td>\n",
       "    </tr>\n",
       "    <tr>\n",
       "      <td>4</td>\n",
       "      <td>4</td>\n",
       "      <td>132</td>\n",
       "      <td>-1.571359</td>\n",
       "      <td>1.687508</td>\n",
       "      <td>0.734670</td>\n",
       "      <td>1.293350</td>\n",
       "      <td>-0.217532</td>\n",
       "      <td>-0.002677</td>\n",
       "      <td>0.147364</td>\n",
       "      <td>0.515362</td>\n",
       "      <td>...</td>\n",
       "      <td>0.048549</td>\n",
       "      <td>0.377256</td>\n",
       "      <td>-0.030436</td>\n",
       "      <td>0.117608</td>\n",
       "      <td>-0.060520</td>\n",
       "      <td>-0.296550</td>\n",
       "      <td>-0.481570</td>\n",
       "      <td>-0.167897</td>\n",
       "      <td>10.00</td>\n",
       "      <td>0</td>\n",
       "    </tr>\n",
       "  </tbody>\n",
       "</table>\n",
       "<p>5 rows × 32 columns</p>\n",
       "</div>"
      ],
      "text/plain": [
       "   Unnamed: 0  Time        V1        V2        V3        V4        V5  \\\n",
       "0           0    64  1.212511 -0.099054 -1.192094  0.286324  2.160516   \n",
       "1           1    64 -0.658305  0.406791  2.037461 -0.291298  0.147910   \n",
       "2           2   124  1.105253  0.541842  0.839421  2.570933 -0.279517   \n",
       "3           3   128  1.239495 -0.182609  0.155058 -0.928892 -0.746227   \n",
       "4           4   132 -1.571359  1.687508  0.734670  1.293350 -0.217532   \n",
       "\n",
       "         V6        V7        V8  ...       V21       V22       V23       V24  \\\n",
       "0  3.616314 -0.404207  0.842331  ... -0.167496 -0.494695 -0.149785  1.011227   \n",
       "1 -0.350857  0.945373 -0.172560  ... -0.156096 -0.238805  0.089877  0.421195   \n",
       "2 -0.423062  0.088019  0.011622  ... -0.137434 -0.460991  0.189397  0.556329   \n",
       "3 -1.235608 -0.061695 -0.125223  ...  0.146077  0.481119 -0.140019  0.538261   \n",
       "4 -0.002677  0.147364  0.515362  ...  0.048549  0.377256 -0.030436  0.117608   \n",
       "\n",
       "        V25       V26       V27       V28  Amount  Class  \n",
       "0  0.883548 -0.329434  0.020370  0.017037   34.70      0  \n",
       "1 -0.352487  0.074783 -0.094192 -0.092493   54.99      0  \n",
       "2  0.185786 -0.189030  0.000208  0.026167    6.24      0  \n",
       "3  0.710720 -0.621382  0.036867  0.010963    8.80      0  \n",
       "4 -0.060520 -0.296550 -0.481570 -0.167897   10.00      0  \n",
       "\n",
       "[5 rows x 32 columns]"
      ]
     },
     "execution_count": 51,
     "metadata": {},
     "output_type": "execute_result"
    }
   ],
   "source": [
    "data.head()"
   ]
  },
  {
   "cell_type": "markdown",
   "metadata": {},
   "source": [
    "We can see that we have been provided with an annoymous dataset which is in numerical form in order to protect the privacy of the customer. We are not allowed to have real credit card information, expiry date, ip address or any other related information. The 'Class' column of the fraudData set indicates two values, 0 and 1. 0 represents transactions is fine and 1 represents if transaction may be fraudulent."
   ]
  },
  {
   "cell_type": "code",
   "execution_count": 52,
   "metadata": {},
   "outputs": [
    {
     "data": {
      "text/plain": [
       "False"
      ]
     },
     "execution_count": 52,
     "metadata": {},
     "output_type": "execute_result"
    }
   ],
   "source": [
    "data.isnull().values.any()"
   ]
  },
  {
   "cell_type": "code",
   "execution_count": 53,
   "metadata": {},
   "outputs": [
    {
     "data": {
      "text/plain": [
       "0    7983\n",
       "1      17\n",
       "Name: Class, dtype: int64"
      ]
     },
     "execution_count": 53,
     "metadata": {},
     "output_type": "execute_result"
    }
   ],
   "source": [
    "data['Class'].value_counts()"
   ]
  },
  {
   "cell_type": "code",
   "execution_count": 54,
   "metadata": {
    "scrolled": true
   },
   "outputs": [
    {
     "data": {
      "text/html": [
       "<div>\n",
       "<style scoped>\n",
       "    .dataframe tbody tr th:only-of-type {\n",
       "        vertical-align: middle;\n",
       "    }\n",
       "\n",
       "    .dataframe tbody tr th {\n",
       "        vertical-align: top;\n",
       "    }\n",
       "\n",
       "    .dataframe thead th {\n",
       "        text-align: right;\n",
       "    }\n",
       "</style>\n",
       "<table border=\"1\" class=\"dataframe\">\n",
       "  <thead>\n",
       "    <tr style=\"text-align: right;\">\n",
       "      <th></th>\n",
       "      <th>Time</th>\n",
       "      <th>Amount</th>\n",
       "      <th>Class</th>\n",
       "    </tr>\n",
       "  </thead>\n",
       "  <tbody>\n",
       "    <tr>\n",
       "      <td>count</td>\n",
       "      <td>8000.000000</td>\n",
       "      <td>8000.000000</td>\n",
       "      <td>8000.000000</td>\n",
       "    </tr>\n",
       "    <tr>\n",
       "      <td>mean</td>\n",
       "      <td>95357.290375</td>\n",
       "      <td>89.669246</td>\n",
       "      <td>0.002125</td>\n",
       "    </tr>\n",
       "    <tr>\n",
       "      <td>std</td>\n",
       "      <td>46956.240862</td>\n",
       "      <td>260.188804</td>\n",
       "      <td>0.046052</td>\n",
       "    </tr>\n",
       "    <tr>\n",
       "      <td>min</td>\n",
       "      <td>64.000000</td>\n",
       "      <td>0.000000</td>\n",
       "      <td>0.000000</td>\n",
       "    </tr>\n",
       "    <tr>\n",
       "      <td>25%</td>\n",
       "      <td>55189.750000</td>\n",
       "      <td>5.990000</td>\n",
       "      <td>0.000000</td>\n",
       "    </tr>\n",
       "    <tr>\n",
       "      <td>50%</td>\n",
       "      <td>85758.000000</td>\n",
       "      <td>22.855000</td>\n",
       "      <td>0.000000</td>\n",
       "    </tr>\n",
       "    <tr>\n",
       "      <td>75%</td>\n",
       "      <td>139042.750000</td>\n",
       "      <td>78.432500</td>\n",
       "      <td>0.000000</td>\n",
       "    </tr>\n",
       "    <tr>\n",
       "      <td>max</td>\n",
       "      <td>172766.000000</td>\n",
       "      <td>10199.440000</td>\n",
       "      <td>1.000000</td>\n",
       "    </tr>\n",
       "  </tbody>\n",
       "</table>\n",
       "</div>"
      ],
      "text/plain": [
       "                Time        Amount        Class\n",
       "count    8000.000000   8000.000000  8000.000000\n",
       "mean    95357.290375     89.669246     0.002125\n",
       "std     46956.240862    260.188804     0.046052\n",
       "min        64.000000      0.000000     0.000000\n",
       "25%     55189.750000      5.990000     0.000000\n",
       "50%     85758.000000     22.855000     0.000000\n",
       "75%    139042.750000     78.432500     0.000000\n",
       "max    172766.000000  10199.440000     1.000000"
      ]
     },
     "execution_count": 54,
     "metadata": {},
     "output_type": "execute_result"
    }
   ],
   "source": [
    "data[[\"Time\",\"Amount\",\"Class\"]].describe()"
   ]
  },
  {
   "cell_type": "code",
   "execution_count": 55,
   "metadata": {},
   "outputs": [
    {
     "name": "stdout",
     "output_type": "stream",
     "text": [
      "No Frauds are  99.79 % of the dataset\n",
      "Frauds are  0.21 % of the dataset\n"
     ]
    }
   ],
   "source": [
    "print('No Frauds are ', round(data['Class'].value_counts()[0]/len(data) * 100,2), '% of the dataset')\n",
    "print('Frauds are ', round(data['Class'].value_counts()[1]/len(data) * 100,2), '% of the dataset')"
   ]
  },
  {
   "cell_type": "markdown",
   "metadata": {},
   "source": [
    "Our data is very much imbalanced (which is understandable since most of the transactions are in no frauds category). If we use this dataframe as the base for our predictive models and analysis we might get a lot of errors and our algorithms will probably overfit since it will \"assume\" that most transactions are not fraud. But we don't want our model to assume, we want our model to detect patterns that give signs of fraud!"
   ]
  },
  {
   "cell_type": "code",
   "execution_count": 56,
   "metadata": {},
   "outputs": [
    {
     "data": {
      "text/plain": [
       "''"
      ]
     },
     "execution_count": 56,
     "metadata": {},
     "output_type": "execute_result"
    },
    {
     "data": {
      "image/png": "[encoded data removed]",
      "text/plain": [
       "<Figure size 432x288 with 1 Axes>"
      ]
     },
     "metadata": {
      "needs_background": "light"
     },
     "output_type": "display_data"
    }
   ],
   "source": [
    "colors = [\"#910061\", \"#DF0101\"]\n",
    "\n",
    "sns.countplot('Class', data=data, palette=colors)\n",
    "plt.title('Class Distributions \\n (0: No Fraud || 1: Fraud)', fontsize=14)\n",
    ";"
   ]
  },
  {
   "cell_type": "markdown",
   "metadata": {},
   "source": [
    "### Distribution of Transaction Amount and Distribution of Transaction Time"
   ]
  },
  {
   "cell_type": "code",
   "execution_count": 57,
   "metadata": {},
   "outputs": [
    {
     "data": {
      "image/png": "[encoded data removed]",
      "text/plain": [
       "<Figure size 1296x288 with 2 Axes>"
      ]
     },
     "metadata": {
      "needs_background": "light"
     },
     "output_type": "display_data"
    }
   ],
   "source": [
    "fig, ax = plt.subplots(1, 2, figsize=(18,4))\n",
    "\n",
    "amount_val = data['Amount'].values\n",
    "time_val = data['Time'].values\n",
    "\n",
    "sns.distplot(amount_val, ax=ax[0], color='purple')\n",
    "ax[0].set_title('Distribution of Transaction Amount', fontsize=14)\n",
    "ax[0].set_xlim([min(amount_val), max(amount_val)])\n",
    "\n",
    "sns.distplot(time_val, ax=ax[1], color='purple')\n",
    "ax[1].set_title('Distribution of Transaction Time', fontsize=14)\n",
    "ax[1].set_xlim([min(time_val), max(time_val)])\n",
    "\n",
    "plt.show()"
   ]
  },
  {
   "cell_type": "code",
   "execution_count": 58,
   "metadata": {},
   "outputs": [],
   "source": [
    "# time features -- converting time into minutes and hours\n",
    "\n",
    "timedelta = pd.to_timedelta(data['Time'], unit='s')\n",
    "data['Time_min'] = (timedelta.dt.components.minutes).astype(int)\n",
    "data['Time_hour'] = (timedelta.dt.components.hours).astype(int)"
   ]
  },
  {
   "cell_type": "code",
   "execution_count": 59,
   "metadata": {},
   "outputs": [
    {
     "data": {
      "image/png": "[encoded data removed]",
      "text/plain": [
       "<Figure size 1080x360 with 1 Axes>"
      ]
     },
     "metadata": {
      "needs_background": "light"
     },
     "output_type": "display_data"
    }
   ],
   "source": [
    "#Exploring the distribuition by Class types throught hours and minutes\n",
    "plt.figure(figsize=(15,5))\n",
    "sns.distplot(data[data['Class'] == 0][\"Time_hour\"], color='purple')\n",
    "sns.distplot(data[data['Class'] == 1][\"Time_hour\"], color='blue')\n",
    "plt.title('Fraud x Normal Transactions by Hours', fontsize=15)\n",
    "plt.xlim([-1,25])\n",
    "\n",
    "plt.show()"
   ]
  },
  {
   "cell_type": "markdown",
   "metadata": {},
   "source": [
    "Interesting .. but still not clear. Let's create one scatter chart to display distribution by amount for each transaction."
   ]
  },
  {
   "cell_type": "code",
   "execution_count": 60,
   "metadata": {},
   "outputs": [
    {
     "data": {
      "image/png": "[encoded data removed]",
      "text/plain": [
       "<Figure size 690.375x360 with 1 Axes>"
      ]
     },
     "metadata": {
      "needs_background": "light"
     },
     "output_type": "display_data"
    },
    {
     "data": {
      "text/plain": [
       "''"
      ]
     },
     "execution_count": 60,
     "metadata": {},
     "output_type": "execute_result"
    }
   ],
   "source": [
    "ax = sns.lmplot(y=\"Amount\", x=\"Time_hour\", fit_reg=False,aspect=1.8, data=data, hue='Class')\n",
    "plt.title(\"Amounts by Hour of Frauds and Normal Transactions\", fontsize=15)\n",
    "\n",
    "plt.show()\n",
    ";"
   ]
  },
  {
   "cell_type": "markdown",
   "metadata": {},
   "source": [
    "### Correlation Matrix"
   ]
  },
  {
   "cell_type": "code",
   "execution_count": 61,
   "metadata": {},
   "outputs": [
    {
     "data": {
      "image/png": "[encoded data removed]",
      "text/plain": [
       "<Figure size 1080x576 with 4 Axes>"
      ]
     },
     "metadata": {
      "needs_background": "light"
     },
     "output_type": "display_data"
    }
   ],
   "source": [
    "#correlation matrix \n",
    "\n",
    "f, (ax1, ax2) = plt.subplots(1,2,figsize =( 15, 8))\n",
    "\n",
    "sns.heatmap(data.query('Class==1').drop(['Class','Time'],1).corr(), vmax = .8, square=True, ax = ax1, cmap = 'YlGnBu')\n",
    "ax1.set_title('Fraud')\n",
    "\n",
    "sns.heatmap(data.query('Class==0').drop(['Class','Time'],1).corr(), vmax = .8, square=True, ax = ax2, cmap = 'YlGnBu');\n",
    "ax2.set_title('Normal')\n",
    "\n",
    "plt.show()"
   ]
  },
  {
   "cell_type": "markdown",
   "metadata": {},
   "source": [
    "We can explore data further but at this moment, I would stop here and we will move to part two of the project which is pre-processing of our data."
   ]
  },
  {
   "cell_type": "markdown",
   "metadata": {},
   "source": [
    "# 2 - Pre-processing"
   ]
  },
  {
   "cell_type": "markdown",
   "metadata": {},
   "source": [
    "In the first step of data exploration, I would like to first normalize the range of 'Amount' between -1 to +1. I have created a new column labelled as 'normalizedAmount'. We can use StandardScaler method provided by Scikit-learn liberary."
   ]
  },
  {
   "cell_type": "code",
   "execution_count": 62,
   "metadata": {},
   "outputs": [],
   "source": [
    "from sklearn.preprocessing import StandardScaler"
   ]
  },
  {
   "cell_type": "code",
   "execution_count": 63,
   "metadata": {},
   "outputs": [],
   "source": [
    "scaler = StandardScaler()"
   ]
  },
  {
   "cell_type": "code",
   "execution_count": 64,
   "metadata": {},
   "outputs": [],
   "source": [
    "data['normalizedAmount'] = scaler.fit_transform(data['Amount'].values.reshape(-1,1))"
   ]
  },
  {
   "cell_type": "code",
   "execution_count": 65,
   "metadata": {},
   "outputs": [],
   "source": [
    "# Let's drop useless columns which we will not be using here.\n",
    "\n",
    "data = data.drop(['Amount'], axis=1)"
   ]
  },
  {
   "cell_type": "code",
   "execution_count": 66,
   "metadata": {},
   "outputs": [],
   "source": [
    "\n",
    "data = data.drop(['Time'], axis=1)"
   ]
  },
  {
   "cell_type": "code",
   "execution_count": 67,
   "metadata": {},
   "outputs": [],
   "source": [
    "data = data.drop(['Unnamed: 0'], axis=1)"
   ]
  },
  {
   "cell_type": "code",
   "execution_count": 68,
   "metadata": {},
   "outputs": [
    {
     "data": {
      "text/html": [
       "<div>\n",
       "<style scoped>\n",
       "    .dataframe tbody tr th:only-of-type {\n",
       "        vertical-align: middle;\n",
       "    }\n",
       "\n",
       "    .dataframe tbody tr th {\n",
       "        vertical-align: top;\n",
       "    }\n",
       "\n",
       "    .dataframe thead th {\n",
       "        text-align: right;\n",
       "    }\n",
       "</style>\n",
       "<table border=\"1\" class=\"dataframe\">\n",
       "  <thead>\n",
       "    <tr style=\"text-align: right;\">\n",
       "      <th></th>\n",
       "      <th>V1</th>\n",
       "      <th>V2</th>\n",
       "      <th>V3</th>\n",
       "      <th>V4</th>\n",
       "      <th>V5</th>\n",
       "      <th>V6</th>\n",
       "      <th>V7</th>\n",
       "      <th>V8</th>\n",
       "      <th>V9</th>\n",
       "      <th>V10</th>\n",
       "      <th>...</th>\n",
       "      <th>V23</th>\n",
       "      <th>V24</th>\n",
       "      <th>V25</th>\n",
       "      <th>V26</th>\n",
       "      <th>V27</th>\n",
       "      <th>V28</th>\n",
       "      <th>Class</th>\n",
       "      <th>Time_min</th>\n",
       "      <th>Time_hour</th>\n",
       "      <th>normalizedAmount</th>\n",
       "    </tr>\n",
       "  </thead>\n",
       "  <tbody>\n",
       "    <tr>\n",
       "      <td>count</td>\n",
       "      <td>8000.000000</td>\n",
       "      <td>8000.000000</td>\n",
       "      <td>8000.000000</td>\n",
       "      <td>8000.000000</td>\n",
       "      <td>8000.000000</td>\n",
       "      <td>8000.000000</td>\n",
       "      <td>8000.000000</td>\n",
       "      <td>8000.000000</td>\n",
       "      <td>8000.000000</td>\n",
       "      <td>8000.000000</td>\n",
       "      <td>...</td>\n",
       "      <td>8000.000000</td>\n",
       "      <td>8000.000000</td>\n",
       "      <td>8000.000000</td>\n",
       "      <td>8000.000000</td>\n",
       "      <td>8000.000000</td>\n",
       "      <td>8000.000000</td>\n",
       "      <td>8000.000000</td>\n",
       "      <td>8000.000000</td>\n",
       "      <td>8000.000000</td>\n",
       "      <td>8.000000e+03</td>\n",
       "    </tr>\n",
       "    <tr>\n",
       "      <td>mean</td>\n",
       "      <td>0.016628</td>\n",
       "      <td>-0.005726</td>\n",
       "      <td>-0.010398</td>\n",
       "      <td>-0.028731</td>\n",
       "      <td>-0.022065</td>\n",
       "      <td>0.000739</td>\n",
       "      <td>0.016121</td>\n",
       "      <td>-0.004941</td>\n",
       "      <td>-0.013924</td>\n",
       "      <td>0.003476</td>\n",
       "      <td>...</td>\n",
       "      <td>0.006422</td>\n",
       "      <td>-0.000855</td>\n",
       "      <td>-0.000284</td>\n",
       "      <td>0.000740</td>\n",
       "      <td>-0.006161</td>\n",
       "      <td>0.005893</td>\n",
       "      <td>0.002125</td>\n",
       "      <td>29.199375</td>\n",
       "      <td>14.074250</td>\n",
       "      <td>-5.329071e-18</td>\n",
       "    </tr>\n",
       "    <tr>\n",
       "      <td>std</td>\n",
       "      <td>1.899212</td>\n",
       "      <td>1.545809</td>\n",
       "      <td>1.477050</td>\n",
       "      <td>1.426184</td>\n",
       "      <td>1.401964</td>\n",
       "      <td>1.332905</td>\n",
       "      <td>1.305012</td>\n",
       "      <td>1.174568</td>\n",
       "      <td>1.106161</td>\n",
       "      <td>1.115539</td>\n",
       "      <td>...</td>\n",
       "      <td>0.553929</td>\n",
       "      <td>0.606846</td>\n",
       "      <td>0.513374</td>\n",
       "      <td>0.485101</td>\n",
       "      <td>0.394584</td>\n",
       "      <td>0.348770</td>\n",
       "      <td>0.046052</td>\n",
       "      <td>17.451281</td>\n",
       "      <td>5.792835</td>\n",
       "      <td>1.000063e+00</td>\n",
       "    </tr>\n",
       "    <tr>\n",
       "      <td>min</td>\n",
       "      <td>-29.973363</td>\n",
       "      <td>-29.198899</td>\n",
       "      <td>-19.947726</td>\n",
       "      <td>-5.416315</td>\n",
       "      <td>-40.427726</td>\n",
       "      <td>-7.810116</td>\n",
       "      <td>-21.234463</td>\n",
       "      <td>-26.069936</td>\n",
       "      <td>-8.739670</td>\n",
       "      <td>-18.271168</td>\n",
       "      <td>...</td>\n",
       "      <td>-12.667179</td>\n",
       "      <td>-2.814898</td>\n",
       "      <td>-3.223535</td>\n",
       "      <td>-1.511259</td>\n",
       "      <td>-5.809357</td>\n",
       "      <td>-3.693525</td>\n",
       "      <td>0.000000</td>\n",
       "      <td>0.000000</td>\n",
       "      <td>0.000000</td>\n",
       "      <td>-3.446530e-01</td>\n",
       "    </tr>\n",
       "    <tr>\n",
       "      <td>25%</td>\n",
       "      <td>-0.915243</td>\n",
       "      <td>-0.610001</td>\n",
       "      <td>-0.893566</td>\n",
       "      <td>-0.903137</td>\n",
       "      <td>-0.714806</td>\n",
       "      <td>-0.790640</td>\n",
       "      <td>-0.560447</td>\n",
       "      <td>-0.215935</td>\n",
       "      <td>-0.653245</td>\n",
       "      <td>-0.539930</td>\n",
       "      <td>...</td>\n",
       "      <td>-0.159989</td>\n",
       "      <td>-0.345288</td>\n",
       "      <td>-0.311490</td>\n",
       "      <td>-0.327823</td>\n",
       "      <td>-0.071358</td>\n",
       "      <td>-0.052957</td>\n",
       "      <td>0.000000</td>\n",
       "      <td>14.000000</td>\n",
       "      <td>10.000000</td>\n",
       "      <td>-3.216298e-01</td>\n",
       "    </tr>\n",
       "    <tr>\n",
       "      <td>50%</td>\n",
       "      <td>0.025737</td>\n",
       "      <td>0.040064</td>\n",
       "      <td>0.165369</td>\n",
       "      <td>-0.035525</td>\n",
       "      <td>-0.076317</td>\n",
       "      <td>-0.282476</td>\n",
       "      <td>0.043119</td>\n",
       "      <td>0.019278</td>\n",
       "      <td>-0.057401</td>\n",
       "      <td>-0.080901</td>\n",
       "      <td>...</td>\n",
       "      <td>-0.008716</td>\n",
       "      <td>0.038126</td>\n",
       "      <td>0.023790</td>\n",
       "      <td>-0.061720</td>\n",
       "      <td>0.000514</td>\n",
       "      <td>0.011239</td>\n",
       "      <td>0.000000</td>\n",
       "      <td>29.000000</td>\n",
       "      <td>15.000000</td>\n",
       "      <td>-2.568074e-01</td>\n",
       "    </tr>\n",
       "    <tr>\n",
       "      <td>75%</td>\n",
       "      <td>1.321858</td>\n",
       "      <td>0.784179</td>\n",
       "      <td>0.991859</td>\n",
       "      <td>0.752604</td>\n",
       "      <td>0.601602</td>\n",
       "      <td>0.403259</td>\n",
       "      <td>0.581711</td>\n",
       "      <td>0.331131</td>\n",
       "      <td>0.594168</td>\n",
       "      <td>0.479145</td>\n",
       "      <td>...</td>\n",
       "      <td>0.144751</td>\n",
       "      <td>0.440633</td>\n",
       "      <td>0.344371</td>\n",
       "      <td>0.246298</td>\n",
       "      <td>0.086333</td>\n",
       "      <td>0.076835</td>\n",
       "      <td>0.000000</td>\n",
       "      <td>45.000000</td>\n",
       "      <td>19.000000</td>\n",
       "      <td>-4.318959e-02</td>\n",
       "    </tr>\n",
       "    <tr>\n",
       "      <td>max</td>\n",
       "      <td>2.373022</td>\n",
       "      <td>11.447082</td>\n",
       "      <td>3.985446</td>\n",
       "      <td>9.074932</td>\n",
       "      <td>13.815072</td>\n",
       "      <td>23.917837</td>\n",
       "      <td>44.054461</td>\n",
       "      <td>9.561121</td>\n",
       "      <td>7.938980</td>\n",
       "      <td>11.790995</td>\n",
       "      <td>...</td>\n",
       "      <td>19.228169</td>\n",
       "      <td>3.577753</td>\n",
       "      <td>2.520869</td>\n",
       "      <td>2.693658</td>\n",
       "      <td>5.352193</td>\n",
       "      <td>15.649134</td>\n",
       "      <td>1.000000</td>\n",
       "      <td>59.000000</td>\n",
       "      <td>23.000000</td>\n",
       "      <td>3.885795e+01</td>\n",
       "    </tr>\n",
       "  </tbody>\n",
       "</table>\n",
       "<p>8 rows × 32 columns</p>\n",
       "</div>"
      ],
      "text/plain": [
       "                V1           V2           V3           V4           V5  \\\n",
       "count  8000.000000  8000.000000  8000.000000  8000.000000  8000.000000   \n",
       "mean      0.016628    -0.005726    -0.010398    -0.028731    -0.022065   \n",
       "std       1.899212     1.545809     1.477050     1.426184     1.401964   \n",
       "min     -29.973363   -29.198899   -19.947726    -5.416315   -40.427726   \n",
       "25%      -0.915243    -0.610001    -0.893566    -0.903137    -0.714806   \n",
       "50%       0.025737     0.040064     0.165369    -0.035525    -0.076317   \n",
       "75%       1.321858     0.784179     0.991859     0.752604     0.601602   \n",
       "max       2.373022    11.447082     3.985446     9.074932    13.815072   \n",
       "\n",
       "                V6           V7           V8           V9          V10  ...  \\\n",
       "count  8000.000000  8000.000000  8000.000000  8000.000000  8000.000000  ...   \n",
       "mean      0.000739     0.016121    -0.004941    -0.013924     0.003476  ...   \n",
       "std       1.332905     1.305012     1.174568     1.106161     1.115539  ...   \n",
       "min      -7.810116   -21.234463   -26.069936    -8.739670   -18.271168  ...   \n",
       "25%      -0.790640    -0.560447    -0.215935    -0.653245    -0.539930  ...   \n",
       "50%      -0.282476     0.043119     0.019278    -0.057401    -0.080901  ...   \n",
       "75%       0.403259     0.581711     0.331131     0.594168     0.479145  ...   \n",
       "max      23.917837    44.054461     9.561121     7.938980    11.790995  ...   \n",
       "\n",
       "               V23          V24          V25          V26          V27  \\\n",
       "count  8000.000000  8000.000000  8000.000000  8000.000000  8000.000000   \n",
       "mean      0.006422    -0.000855    -0.000284     0.000740    -0.006161   \n",
       "std       0.553929     0.606846     0.513374     0.485101     0.394584   \n",
       "min     -12.667179    -2.814898    -3.223535    -1.511259    -5.809357   \n",
       "25%      -0.159989    -0.345288    -0.311490    -0.327823    -0.071358   \n",
       "50%      -0.008716     0.038126     0.023790    -0.061720     0.000514   \n",
       "75%       0.144751     0.440633     0.344371     0.246298     0.086333   \n",
       "max      19.228169     3.577753     2.520869     2.693658     5.352193   \n",
       "\n",
       "               V28        Class     Time_min    Time_hour  normalizedAmount  \n",
       "count  8000.000000  8000.000000  8000.000000  8000.000000      8.000000e+03  \n",
       "mean      0.005893     0.002125    29.199375    14.074250     -5.329071e-18  \n",
       "std       0.348770     0.046052    17.451281     5.792835      1.000063e+00  \n",
       "min      -3.693525     0.000000     0.000000     0.000000     -3.446530e-01  \n",
       "25%      -0.052957     0.000000    14.000000    10.000000     -3.216298e-01  \n",
       "50%       0.011239     0.000000    29.000000    15.000000     -2.568074e-01  \n",
       "75%       0.076835     0.000000    45.000000    19.000000     -4.318959e-02  \n",
       "max      15.649134     1.000000    59.000000    23.000000      3.885795e+01  \n",
       "\n",
       "[8 rows x 32 columns]"
      ]
     },
     "execution_count": 68,
     "metadata": {},
     "output_type": "execute_result"
    }
   ],
   "source": [
    "data.describe()"
   ]
  },
  {
   "cell_type": "markdown",
   "metadata": {},
   "source": [
    "### Splitting the Dataset"
   ]
  },
  {
   "cell_type": "code",
   "execution_count": 69,
   "metadata": {},
   "outputs": [],
   "source": [
    "X = data.iloc[:, data.columns != 'Class']\n",
    "y = data.iloc[:, data.columns == 'Class']"
   ]
  },
  {
   "cell_type": "code",
   "execution_count": 70,
   "metadata": {},
   "outputs": [],
   "source": [
    "from sklearn.model_selection import train_test_split\n",
    "X_train, X_test, y_train, y_test = train_test_split(X, y, test_size = 0.3, random_state = RANDOM_SEED)"
   ]
  },
  {
   "cell_type": "code",
   "execution_count": 71,
   "metadata": {},
   "outputs": [],
   "source": [
    "X_train = np.array(X_train)\n",
    "X_test = np.array(X_test)\n",
    "y_train = np.array(y_train)\n",
    "y_test = np.array(y_test)"
   ]
  },
  {
   "cell_type": "code",
   "execution_count": 72,
   "metadata": {},
   "outputs": [
    {
     "name": "stdout",
     "output_type": "stream",
     "text": [
      "Shape of X_train : (5600, 31)\n",
      "Shape of X_test: (2400, 31)\n",
      "Shape of y_train : (2400, 1)\n",
      "Shape of y_test : (2400, 1)\n"
     ]
    }
   ],
   "source": [
    "print('Shape of X_train :', X_train.shape)\n",
    "print('Shape of X_test:', X_test.shape)\n",
    "print('Shape of y_train :', y_test.shape)\n",
    "print('Shape of y_test :', y_test.shape)"
   ]
  },
  {
   "cell_type": "markdown",
   "metadata": {},
   "source": [
    "# 3 - Our Model"
   ]
  },
  {
   "cell_type": "code",
   "execution_count": 73,
   "metadata": {},
   "outputs": [],
   "source": [
    "from keras.models import Sequential\n",
    "from keras.layers import Dense\n",
    "from keras.layers import Dropout"
   ]
  },
  {
   "cell_type": "code",
   "execution_count": 74,
   "metadata": {},
   "outputs": [
    {
     "data": {
      "text/plain": [
       "((2400, 31), (5600, 31))"
      ]
     },
     "execution_count": 74,
     "metadata": {},
     "output_type": "execute_result"
    }
   ],
   "source": [
    "X_test.shape, X_train.shape"
   ]
  },
  {
   "cell_type": "code",
   "execution_count": 75,
   "metadata": {},
   "outputs": [
    {
     "data": {
      "text/plain": [
       "''"
      ]
     },
     "execution_count": 75,
     "metadata": {},
     "output_type": "execute_result"
    }
   ],
   "source": [
    "model = Sequential([\n",
    "    Dense(units=16, input_dim = 31, activation='relu'),\n",
    "    Dense(units=24, activation='relu'),\n",
    "    Dropout(0.5), #adjusting overfitting, chose probablity 0.5\n",
    "    Dense(20,activation='relu'),\n",
    "    Dense(24,activation='relu'),\n",
    "    Dense(1,activation='sigmoid'),\n",
    "])\n",
    ";"
   ]
  },
  {
   "cell_type": "code",
   "execution_count": 76,
   "metadata": {},
   "outputs": [
    {
     "name": "stdout",
     "output_type": "stream",
     "text": [
      "_________________________________________________________________\n",
      "Layer (type)                 Output Shape              Param #   \n",
      "=================================================================\n",
      "dense_6 (Dense)              (None, 16)                512       \n",
      "_________________________________________________________________\n",
      "dense_7 (Dense)              (None, 24)                408       \n",
      "_________________________________________________________________\n",
      "dropout_2 (Dropout)          (None, 24)                0         \n",
      "_________________________________________________________________\n",
      "dense_8 (Dense)              (None, 20)                500       \n",
      "_________________________________________________________________\n",
      "dense_9 (Dense)              (None, 24)                504       \n",
      "_________________________________________________________________\n",
      "dense_10 (Dense)             (None, 1)                 25        \n",
      "=================================================================\n",
      "Total params: 1,949\n",
      "Trainable params: 1,949\n",
      "Non-trainable params: 0\n",
      "_________________________________________________________________\n"
     ]
    }
   ],
   "source": [
    "model.summary()"
   ]
  },
  {
   "cell_type": "markdown",
   "metadata": {},
   "source": [
    "### Training the Model"
   ]
  },
  {
   "cell_type": "code",
   "execution_count": 77,
   "metadata": {},
   "outputs": [
    {
     "name": "stdout",
     "output_type": "stream",
     "text": [
      "Epoch 1/50\n",
      "5600/5600 [==============================] - 2s 332us/step - loss: 0.0381 - acc: 0.9970\n",
      "Epoch 2/50\n",
      "5600/5600 [==============================] - 1s 142us/step - loss: 0.0249 - acc: 0.9971\n",
      "Epoch 3/50\n",
      "5600/5600 [==============================] - 1s 120us/step - loss: 0.0251 - acc: 0.9971\n",
      "Epoch 4/50\n",
      "5600/5600 [==============================] - 1s 130us/step - loss: 0.0162 - acc: 0.9971\n",
      "Epoch 5/50\n",
      "5600/5600 [==============================] - 1s 127us/step - loss: 0.0171 - acc: 0.9971\n",
      "Epoch 6/50\n",
      "5600/5600 [==============================] - 1s 119us/step - loss: 0.0158 - acc: 0.9971\n",
      "Epoch 7/50\n",
      "5600/5600 [==============================] - 1s 120us/step - loss: 0.0174 - acc: 0.9971\n",
      "Epoch 8/50\n",
      "5600/5600 [==============================] - 1s 117us/step - loss: 0.0143 - acc: 0.9971\n",
      "Epoch 9/50\n",
      "5600/5600 [==============================] - 1s 113us/step - loss: 0.0131 - acc: 0.9970\n",
      "Epoch 10/50\n",
      "5600/5600 [==============================] - 1s 113us/step - loss: 0.0132 - acc: 0.9971\n",
      "Epoch 11/50\n",
      "5600/5600 [==============================] - 1s 134us/step - loss: 0.0129 - acc: 0.9973\n",
      "Epoch 12/50\n",
      "5600/5600 [==============================] - 1s 131us/step - loss: 0.0127 - acc: 0.9971\n",
      "Epoch 13/50\n",
      "5600/5600 [==============================] - 1s 115us/step - loss: 0.0122 - acc: 0.9973\n",
      "Epoch 14/50\n",
      "5600/5600 [==============================] - 1s 138us/step - loss: 0.0094 - acc: 0.9975\n",
      "Epoch 15/50\n",
      "5600/5600 [==============================] - 1s 132us/step - loss: 0.0104 - acc: 0.9973\n",
      "Epoch 16/50\n",
      "5600/5600 [==============================] - 1s 127us/step - loss: 0.0081 - acc: 0.9986\n",
      "Epoch 17/50\n",
      "5600/5600 [==============================] - 1s 154us/step - loss: 0.0096 - acc: 0.9982\n",
      "Epoch 18/50\n",
      "5600/5600 [==============================] - 1s 149us/step - loss: 0.0093 - acc: 0.9979\n",
      "Epoch 19/50\n",
      "5600/5600 [==============================] - 1s 123us/step - loss: 0.0098 - acc: 0.9979\n",
      "Epoch 20/50\n",
      "5600/5600 [==============================] - 1s 134us/step - loss: 0.0087 - acc: 0.9986 0s - loss: 0.0099 - ac\n",
      "Epoch 21/50\n",
      "5600/5600 [==============================] - 1s 154us/step - loss: 0.0074 - acc: 0.9987\n",
      "Epoch 22/50\n",
      "5600/5600 [==============================] - 1s 117us/step - loss: 0.0070 - acc: 0.9982\n",
      "Epoch 23/50\n",
      "5600/5600 [==============================] - 1s 121us/step - loss: 0.0075 - acc: 0.9984\n",
      "Epoch 24/50\n",
      "5600/5600 [==============================] - 1s 119us/step - loss: 0.0080 - acc: 0.9977\n",
      "Epoch 25/50\n",
      "5600/5600 [==============================] - 1s 120us/step - loss: 0.0072 - acc: 0.9982\n",
      "Epoch 26/50\n",
      "5600/5600 [==============================] - 1s 118us/step - loss: 0.0049 - acc: 0.9991\n",
      "Epoch 27/50\n",
      "5600/5600 [==============================] - 1s 131us/step - loss: 0.0050 - acc: 0.9989\n",
      "Epoch 28/50\n",
      "5600/5600 [==============================] - 1s 139us/step - loss: 0.0056 - acc: 0.9986\n",
      "Epoch 29/50\n",
      "5600/5600 [==============================] - 1s 136us/step - loss: 0.0049 - acc: 0.9989\n",
      "Epoch 30/50\n",
      "5600/5600 [==============================] - 1s 140us/step - loss: 0.0046 - acc: 0.9986\n",
      "Epoch 31/50\n",
      "5600/5600 [==============================] - 1s 140us/step - loss: 0.0037 - acc: 0.9989\n",
      "Epoch 32/50\n",
      "5600/5600 [==============================] - 1s 128us/step - loss: 0.0062 - acc: 0.9982\n",
      "Epoch 33/50\n",
      "5600/5600 [==============================] - 1s 143us/step - loss: 0.0061 - acc: 0.9987\n",
      "Epoch 34/50\n",
      "5600/5600 [==============================] - 1s 162us/step - loss: 0.0045 - acc: 0.9984\n",
      "Epoch 35/50\n",
      "5600/5600 [==============================] - 1s 155us/step - loss: 0.0032 - acc: 0.9993\n",
      "Epoch 36/50\n",
      "5600/5600 [==============================] - 1s 188us/step - loss: 0.0047 - acc: 0.9987\n",
      "Epoch 37/50\n",
      "5600/5600 [==============================] - 1s 121us/step - loss: 0.0021 - acc: 0.9995\n",
      "Epoch 38/50\n",
      "5600/5600 [==============================] - 1s 126us/step - loss: 0.0029 - acc: 0.9989\n",
      "Epoch 39/50\n",
      "5600/5600 [==============================] - 1s 142us/step - loss: 0.0025 - acc: 0.9995\n",
      "Epoch 40/50\n",
      "5600/5600 [==============================] - 1s 119us/step - loss: 0.0035 - acc: 0.9991\n",
      "Epoch 41/50\n",
      "5600/5600 [==============================] - 1s 115us/step - loss: 0.0028 - acc: 0.9993\n",
      "Epoch 42/50\n",
      "5600/5600 [==============================] - 1s 113us/step - loss: 0.0042 - acc: 0.9991\n",
      "Epoch 43/50\n",
      "5600/5600 [==============================] - 1s 121us/step - loss: 0.0030 - acc: 0.9993\n",
      "Epoch 44/50\n",
      "5600/5600 [==============================] - 1s 115us/step - loss: 0.0027 - acc: 0.9991\n",
      "Epoch 45/50\n",
      "5600/5600 [==============================] - 1s 117us/step - loss: 0.0050 - acc: 0.9986\n",
      "Epoch 46/50\n",
      "5600/5600 [==============================] - 1s 121us/step - loss: 0.0022 - acc: 0.9995\n",
      "Epoch 47/50\n",
      "5600/5600 [==============================] - 1s 117us/step - loss: 0.0028 - acc: 0.9991\n",
      "Epoch 48/50\n",
      "5600/5600 [==============================] - 1s 112us/step - loss: 0.0020 - acc: 0.9993\n",
      "Epoch 49/50\n",
      "5600/5600 [==============================] - 1s 109us/step - loss: 0.0014 - acc: 0.9996\n",
      "Epoch 50/50\n",
      "5600/5600 [==============================] - 1s 112us/step - loss: 0.0011 - acc: 0.9996\n"
     ]
    },
    {
     "data": {
      "text/plain": [
       "''"
      ]
     },
     "execution_count": 77,
     "metadata": {},
     "output_type": "execute_result"
    }
   ],
   "source": [
    "model.compile(optimizer='adam', loss='binary_crossentropy',metrics=['accuracy'])\n",
    "model.fit(X_train, y_train, batch_size=16, epochs=50)\n",
    ";"
   ]
  },
  {
   "cell_type": "markdown",
   "metadata": {},
   "source": [
    "### Model Evaluation"
   ]
  },
  {
   "cell_type": "code",
   "execution_count": 78,
   "metadata": {},
   "outputs": [
    {
     "name": "stdout",
     "output_type": "stream",
     "text": [
      "2400/2400 [==============================] - 0s 80us/step\n"
     ]
    }
   ],
   "source": [
    "score = model.evaluate(X_test, y_test)"
   ]
  },
  {
   "cell_type": "code",
   "execution_count": 79,
   "metadata": {},
   "outputs": [
    {
     "name": "stdout",
     "output_type": "stream",
     "text": [
      "[0.003436730133042829, 0.99875]\n"
     ]
    }
   ],
   "source": [
    "print(score)"
   ]
  },
  {
   "cell_type": "markdown",
   "metadata": {},
   "source": [
    "This means that we have achieved <strong> very high accuracy (99.87%) </strong>. But this score rate may not valid since we want to exactly catch fraudulent transactions though our model. So let's check precision and also display reuslts in confusion matrix to check if our model is catching fraudulent transactions or not."
   ]
  },
  {
   "cell_type": "markdown",
   "metadata": {},
   "source": [
    "### Confusion Matrix"
   ]
  },
  {
   "cell_type": "code",
   "execution_count": 80,
   "metadata": {},
   "outputs": [],
   "source": [
    "import itertools\n",
    "\n",
    "from sklearn import svm, datasets\n",
    "from sklearn.metrics import confusion_matrix\n",
    "\n",
    "def plot_confusion_matrix(cm, classes,\n",
    "                          normalize=False,\n",
    "                          title='Confusion Matrix',\n",
    "                          cmap=plt.cm.Blues):\n",
    "\n",
    "    if normalize:\n",
    "        cm = cm.astype('float')/cm.sum(axis=1)[:, np.newaxis]\n",
    "        print(\"Normalize Confusion Matrix\")\n",
    "    else:\n",
    "        print(\"Confusion Matrix, Without Normalization\")\n",
    "    \n",
    "    print(cm)\n",
    "\n",
    "    plt.imshow(cm, interpolation='nearest', cmap=cmap)\n",
    "    plt.title(title)\n",
    "    plt.colorbar()\n",
    "    tick_marks = np.arange(len(classes))\n",
    "    plt.xticks(tick_marks, classes, rotation = 45)\n",
    "    plt.yticks(tick_marks, classes)\n",
    "\n",
    "    fmt = '.2f' if normalize else 'd'\n",
    "    thresh = cm.max() / 2.\n",
    "    for i, j in itertools.product(range(cm.shape[0]), range(cm.shape[1])):\n",
    "        plt.text(j, i, format(cm[i, j], fmt), horizontalalignment = \"center\", color=\"white\" if cm[i, j]>thresh else \"black\")\n",
    "\n",
    "    plt.ylabel('True Label')\n",
    "    plt.xlabel('Predicted Label')\n",
    "    plt.tight_layout()"
   ]
  },
  {
   "cell_type": "code",
   "execution_count": 81,
   "metadata": {},
   "outputs": [],
   "source": [
    "y_test = pd.DataFrame(y_test)\n",
    "y_pred = model.predict(X_test)"
   ]
  },
  {
   "cell_type": "code",
   "execution_count": 82,
   "metadata": {},
   "outputs": [],
   "source": [
    "cnf_matrix = confusion_matrix(y_test, y_pred.round())"
   ]
  },
  {
   "cell_type": "code",
   "execution_count": 83,
   "metadata": {},
   "outputs": [
    {
     "name": "stdout",
     "output_type": "stream",
     "text": [
      "[[2396    3]\n",
      " [   0    1]]\n"
     ]
    }
   ],
   "source": [
    "print(cnf_matrix)"
   ]
  },
  {
   "cell_type": "code",
   "execution_count": 84,
   "metadata": {},
   "outputs": [
    {
     "name": "stdout",
     "output_type": "stream",
     "text": [
      "Confusion Matrix, Without Normalization\n",
      "[[2396    3]\n",
      " [   0    1]]\n"
     ]
    },
    {
     "data": {
      "image/png": "[encoded data removed]",
      "text/plain": [
       "<Figure size 432x288 with 2 Axes>"
      ]
     },
     "metadata": {
      "needs_background": "light"
     },
     "output_type": "display_data"
    }
   ],
   "source": [
    "plot_confusion_matrix(cnf_matrix, classes=[0,1])"
   ]
  },
  {
   "cell_type": "markdown",
   "metadata": {},
   "source": [
    "# Conclusion"
   ]
  },
  {
   "cell_type": "markdown",
   "metadata": {},
   "source": [
    "Our model achieved good accuracy but note that data is small. We need more data to perform better analysis."
   ]
  },
  {
   "cell_type": "markdown",
   "metadata": {},
   "source": [
    "We can say that almost every non-fraudulent transaction, our model detected correctly. Only 3 transctions were falsely detected by our model."
   ]
  },
  {
   "cell_type": "markdown",
   "metadata": {},
   "source": [
    "Let's run our model on whole dataset."
   ]
  },
  {
   "cell_type": "code",
   "execution_count": 85,
   "metadata": {},
   "outputs": [
    {
     "name": "stdout",
     "output_type": "stream",
     "text": [
      "Confusion Matrix, Without Normalization\n",
      "[[7979    4]\n",
      " [   0   17]]\n"
     ]
    },
    {
     "data": {
      "image/png": "[encoded data removed]",
      "text/plain": [
       "<Figure size 432x288 with 2 Axes>"
      ]
     },
     "metadata": {
      "needs_background": "light"
     },
     "output_type": "display_data"
    }
   ],
   "source": [
    "y_pred = model.predict(X)\n",
    "y_expected = pd.DataFrame(y)\n",
    "cnf_matrix = confusion_matrix(y_expected, y_pred.round())\n",
    "plot_confusion_matrix(cnf_matrix, classes=[0,1])\n",
    "plt.show()"
   ]
  },
  {
   "cell_type": "markdown",
   "metadata": {},
   "source": [
    "On the complete dataset, our model mismatached only 4 transactions."
   ]
  }
 ],
 "metadata": {
  "kernelspec": {
   "display_name": "Python 3",
   "language": "python",
   "name": "python3"
  },
  "language_info": {
   "codemirror_mode": {
    "name": "ipython",
    "version": 3
   },
   "file_extension": ".py",
   "mimetype": "text/x-python",
   "name": "python",
   "nbconvert_exporter": "python",
   "pygments_lexer": "ipython3",
   "version": "3.6.9"
  }
 },
 "nbformat": 4,
 "nbformat_minor": 2
}
